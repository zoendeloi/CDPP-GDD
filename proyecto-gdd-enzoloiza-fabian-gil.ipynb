{
 "cells": [
  {
   "cell_type": "markdown",
   "id": "d4cda627",
   "metadata": {
    "papermill": {
     "duration": 0.002951,
     "end_time": "2023-08-19T01:19:37.389626",
     "exception": false,
     "start_time": "2023-08-19T01:19:37.386675",
     "status": "completed"
    },
    "tags": []
   },
   "source": [
    "# Proyecto Grupal (Entrega: Sabado 26 de Agosto 2023)"
   ]
  },
  {
   "cell_type": "markdown",
   "id": "b7faa4b1",
   "metadata": {
    "papermill": {
     "duration": 0.001518,
     "end_time": "2023-08-19T01:19:37.392964",
     "exception": false,
     "start_time": "2023-08-19T01:19:37.391446",
     "status": "completed"
    },
    "tags": []
   },
   "source": [
    "Grupos de 2 o 3 personas\n",
    "\n",
    "Este trabajo consistirá en armar una base de datos en SQL, realizar un informe descriptivo de los datos y responder 3 preguntas.\n",
    "\n",
    "Se espera que realicen un diagrama Entidad-Relacion para definir las correctamente las tablas. Luego deberán crear la tabla en SQL y poblarla con datos. Los datos vienen de 3 diferentes fuentes de informacion:\n",
    "- Informacion meteorologica ([SINCA](https://sinca.mma.gob.cl/index.php/region/index/id/M)): Datos historicos de diversas variables de estaciones meteorologicas en Chile. La localizacion geografica de cada estacion se puede sacar de la pagina web.\n",
    "- Localizacion Colegios (Propia/Google Maps): Datos de la ubicacion geográfica de los colegios en Chile.\n",
    "- Asistencia Declarada Mensual (MINEDUC) años: (2018 - 2019) Acá se incluyen los porcentajes de asistencia y la cantidad de dias trabajados de todos los alumnos en los distintos colegios de Chile\n",
    "\n",
    "El esquema de las tablas en SQL debe ajustarse perfectamente a lo que hay en las tablas, en otras palabras deben elegir el tipo de dato adecuado para almacenar la información. Por ejemplo si la columna tiene datos de tipo string de largo 4, el tipo de dato adecuado en SQL debe ser VARCHAR(4) o algún largo cercano. \n",
    "\n",
    "Cabe destacar que las bases de datos no se encuentran libres de errores por lo que para consolidar la informacion hay que solucionar problemas de consistencia, completitud, validez. Entre otros se busca que:\n",
    "\n",
    "- Que los datos para cada uno atributos se encuentren en el formato adecuado y unico.\n",
    "- Una unica forma de expresar valores nulos (unificar distintos tipos de descripcion de valores nulos, ejemplo: \" \", NA, 0, -9999, etc).\n",
    "\n",
    "La evaluacion del proyecto consistirá en las siguientes partes:\n",
    "\n",
    "- (2 pts) Documentacion de la base de datos, debe incluir:\n",
    "  - (1 pts) Diagrama Entidad-Relacion y justificacion del diseño\n",
    "  - (0.5 pts) Esquema de creacion de tabla SQL\n",
    "  - (0.5 pts) Resumen de lo desarrollado en el proyecto (como se generaron las variables, como se procesaron y que resultados se obtuvieron)\n",
    "- (2 pt) Poblar la base de datos, para ello tomaremos en cuenta principalmente los 3 partes fundamentales en su creacion:\n",
    "  - (0.7 pts) Seleccionar solo los pares (MRUN, RBD, AGNO) que tengan exactamente 10 meses distintos y cuyo promedio de asistencia sea mayor al 75% anual (puede calcular este promedio tomando directamente el promedio de ASIS_PROMEDIO)\n",
    "  - (0.7 pts) Para los valores de calidad de aire, para los valores nulos asumir la interpolacion lineal entre los datos cercanos.\n",
    "  - (0.6 pt) Para resolver algunas preguntas del proyecto y poblar correctamente la base de datos se necesitará calcular la distancia entre una estacion meteorológica y un colegio. En este paso es valido medir usando la distancia euclideana entre ambas coordenadas geograficas. Notese que no se encuentra la tabla de coordenadas geograficas de las estaciones meteorologicas, por lo que deberá extraerlas de la pagina web de SINCA.\n",
    "- (3 pts )Responder las siguientes preguntas:\n",
    "  - (0.5 pts) Cuál es la comuna con menor y mayor cantidad de particulas en suspencion de menos de 2.5 y 10 micras (MP2.5 MP10) mensual promedio (últimos 5 años)\n",
    "  - (1 pt) Calcule la asistencia promedio por colegio para los distintos meses (promediando los valores de los últimos 5 años). Grafique la asistencia promedio para un colegio de: Arica, Santiago y otro de Valdivia.\n",
    "  - (1 pt) Realice un gráfico comparativo (de puntos) entre asistencia promedio mensual (eje x) y la variable MP2.5 (eje y) para las 3 siguientes comunas:\n",
    "    - Las Condes\n",
    "    - Santiago\n",
    "    - Pudahuel\n",
    "  - (0.5 pts) Estime el material particulado 2.5 para un colegio de la comuna de San Miguel.\n",
    "\n",
    "\n"
   ]
  },
  {
   "cell_type": "code",
   "execution_count": 1,
   "id": "027ddcc8",
   "metadata": {
    "execution": {
     "iopub.execute_input": "2023-08-19T01:19:37.400010Z",
     "iopub.status.busy": "2023-08-19T01:19:37.397994Z",
     "iopub.status.idle": "2023-08-19T01:19:37.666282Z",
     "shell.execute_reply": "2023-08-19T01:19:37.664438Z"
    },
    "papermill": {
     "duration": 0.274278,
     "end_time": "2023-08-19T01:19:37.668795",
     "exception": false,
     "start_time": "2023-08-19T01:19:37.394517",
     "status": "completed"
    },
    "tags": []
   },
   "outputs": [
    {
     "data": {
      "text/html": [
       "<table class=\"dataframe\">\n",
       "<caption>A matrix: 2 × 6 of type dbl</caption>\n",
       "<thead>\n",
       "\t<tr><th></th><th scope=col>used</th><th scope=col>(Mb)</th><th scope=col>gc trigger</th><th scope=col>(Mb)</th><th scope=col>max used</th><th scope=col>(Mb)</th></tr>\n",
       "</thead>\n",
       "<tbody>\n",
       "\t<tr><th scope=row>Ncells</th><td> 959910</td><td>51.3</td><td>1949558</td><td>104.2</td><td>1249132</td><td>66.8</td></tr>\n",
       "\t<tr><th scope=row>Vcells</th><td>1702392</td><td>13.0</td><td>8388608</td><td> 64.0</td><td>2651364</td><td>20.3</td></tr>\n",
       "</tbody>\n",
       "</table>\n"
      ],
      "text/latex": [
       "A matrix: 2 × 6 of type dbl\n",
       "\\begin{tabular}{r|llllll}\n",
       "  & used & (Mb) & gc trigger & (Mb) & max used & (Mb)\\\\\n",
       "\\hline\n",
       "\tNcells &  959910 & 51.3 & 1949558 & 104.2 & 1249132 & 66.8\\\\\n",
       "\tVcells & 1702392 & 13.0 & 8388608 &  64.0 & 2651364 & 20.3\\\\\n",
       "\\end{tabular}\n"
      ],
      "text/markdown": [
       "\n",
       "A matrix: 2 × 6 of type dbl\n",
       "\n",
       "| <!--/--> | used | (Mb) | gc trigger | (Mb) | max used | (Mb) |\n",
       "|---|---|---|---|---|---|---|\n",
       "| Ncells |  959910 | 51.3 | 1949558 | 104.2 | 1249132 | 66.8 |\n",
       "| Vcells | 1702392 | 13.0 | 8388608 |  64.0 | 2651364 | 20.3 |\n",
       "\n"
      ],
      "text/plain": [
       "       used    (Mb) gc trigger (Mb)  max used (Mb)\n",
       "Ncells  959910 51.3 1949558    104.2 1249132  66.8\n",
       "Vcells 1702392 13.0 8388608     64.0 2651364  20.3"
      ]
     },
     "metadata": {},
     "output_type": "display_data"
    }
   ],
   "source": [
    "gc()"
   ]
  },
  {
   "cell_type": "code",
   "execution_count": 2,
   "id": "7defb6ed",
   "metadata": {
    "execution": {
     "iopub.execute_input": "2023-08-19T01:19:37.704498Z",
     "iopub.status.busy": "2023-08-19T01:19:37.674394Z",
     "iopub.status.idle": "2023-08-19T01:19:38.562052Z",
     "shell.execute_reply": "2023-08-19T01:19:38.560402Z"
    },
    "papermill": {
     "duration": 0.893663,
     "end_time": "2023-08-19T01:19:38.564471",
     "exception": false,
     "start_time": "2023-08-19T01:19:37.670808",
     "status": "completed"
    },
    "tags": []
   },
   "outputs": [
    {
     "name": "stderr",
     "output_type": "stream",
     "text": [
      "── \u001b[1mAttaching core tidyverse packages\u001b[22m ──────────────────────── tidyverse 2.0.0 ──\n",
      "\u001b[32m✔\u001b[39m \u001b[34mdplyr    \u001b[39m 1.1.2     \u001b[32m✔\u001b[39m \u001b[34mreadr    \u001b[39m 2.1.4\n",
      "\u001b[32m✔\u001b[39m \u001b[34mforcats  \u001b[39m 1.0.0     \u001b[32m✔\u001b[39m \u001b[34mstringr  \u001b[39m 1.5.0\n",
      "\u001b[32m✔\u001b[39m \u001b[34mggplot2  \u001b[39m 3.4.2     \u001b[32m✔\u001b[39m \u001b[34mtibble   \u001b[39m 3.2.1\n",
      "\u001b[32m✔\u001b[39m \u001b[34mlubridate\u001b[39m 1.9.2     \u001b[32m✔\u001b[39m \u001b[34mtidyr    \u001b[39m 1.3.0\n",
      "\u001b[32m✔\u001b[39m \u001b[34mpurrr    \u001b[39m 1.0.1     \n",
      "── \u001b[1mConflicts\u001b[22m ────────────────────────────────────────── tidyverse_conflicts() ──\n",
      "\u001b[31m✖\u001b[39m \u001b[34mdplyr\u001b[39m::\u001b[32mfilter()\u001b[39m masks \u001b[34mstats\u001b[39m::filter()\n",
      "\u001b[31m✖\u001b[39m \u001b[34mdplyr\u001b[39m::\u001b[32mlag()\u001b[39m    masks \u001b[34mstats\u001b[39m::lag()\n",
      "\u001b[36mℹ\u001b[39m Use the conflicted package (\u001b[3m\u001b[34m<http://conflicted.r-lib.org/>\u001b[39m\u001b[23m) to force all conflicts to become errors\n"
     ]
    }
   ],
   "source": [
    "\n",
    "library(tidyverse)"
   ]
  }
 ],
 "metadata": {
  "kernelspec": {
   "display_name": "R",
   "language": "R",
   "name": "ir"
  },
  "language_info": {
   "codemirror_mode": "r",
   "file_extension": ".r",
   "mimetype": "text/x-r-source",
   "name": "R",
   "pygments_lexer": "r",
   "version": "4.0.5"
  },
  "papermill": {
   "default_parameters": {},
   "duration": 4.673126,
   "end_time": "2023-08-19T01:19:38.687144",
   "environment_variables": {},
   "exception": null,
   "input_path": "__notebook__.ipynb",
   "output_path": "__notebook__.ipynb",
   "parameters": {},
   "start_time": "2023-08-19T01:19:34.014018",
   "version": "2.4.0"
  }
 },
 "nbformat": 4,
 "nbformat_minor": 5
}
