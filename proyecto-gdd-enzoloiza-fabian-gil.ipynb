{
 "cells": [
  {
   "cell_type": "markdown",
   "id": "84b6aac4",
   "metadata": {
    "papermill": {
     "duration": 0.004893,
     "end_time": "2023-08-31T23:09:06.180139",
     "exception": false,
     "start_time": "2023-08-31T23:09:06.175246",
     "status": "completed"
    },
    "tags": []
   },
   "source": [
    "# Proyecto Grupal (Entrega: Sabado 26 de Agosto 2023)"
   ]
  },
  {
   "cell_type": "markdown",
   "id": "402f3c18",
   "metadata": {
    "papermill": {
     "duration": 0.003324,
     "end_time": "2023-08-31T23:09:06.186993",
     "exception": false,
     "start_time": "2023-08-31T23:09:06.183669",
     "status": "completed"
    },
    "tags": []
   },
   "source": [
    "Grupos de 2 o 3 personas\n",
    "\n",
    "Este trabajo consistirá en armar una base de datos en SQL, realizar un informe descriptivo de los datos y responder 3 preguntas.\n",
    "\n",
    "Se espera que realicen un diagrama Entidad-Relacion para definir las correctamente las tablas. Luego deberán crear la tabla en SQL y poblarla con datos. Los datos vienen de 3 diferentes fuentes de informacion:\n",
    "- Informacion meteorologica ([SINCA](https://sinca.mma.gob.cl/index.php/region/index/id/M)): Datos historicos de diversas variables de estaciones meteorologicas en Chile. La localizacion geografica de cada estacion se puede sacar de la pagina web.\n",
    "- Localizacion Colegios (Propia/Google Maps): Datos de la ubicacion geográfica de los colegios en Chile.\n",
    "- Asistencia Declarada Mensual (MINEDUC) años: (2018 - 2019) Acá se incluyen los porcentajes de asistencia y la cantidad de dias trabajados de todos los alumnos en los distintos colegios de Chile\n",
    "\n",
    "El esquema de las tablas en SQL debe ajustarse perfectamente a lo que hay en las tablas, en otras palabras deben elegir el tipo de dato adecuado para almacenar la información. Por ejemplo si la columna tiene datos de tipo string de largo 4, el tipo de dato adecuado en SQL debe ser VARCHAR(4) o algún largo cercano. \n",
    "\n",
    "Cabe destacar que las bases de datos no se encuentran libres de errores por lo que para consolidar la informacion hay que solucionar problemas de consistencia, completitud, validez. Entre otros se busca que:\n",
    "\n",
    "- Que los datos para cada uno atributos se encuentren en el formato adecuado y unico.\n",
    "- Una unica forma de expresar valores nulos (unificar distintos tipos de descripcion de valores nulos, ejemplo: \" \", NA, 0, -9999, etc).\n",
    "\n",
    "La evaluacion del proyecto consistirá en las siguientes partes:\n",
    "\n",
    "- (2 pts) Documentacion de la base de datos, debe incluir: (clase 21 julio)\n",
    "  - (1 pts) Diagrama Entidad-Relacion y justificacion del diseño\n",
    "  - (0.5 pts) Esquema de creacion de tabla SQL\n",
    "  - (0.5 pts) Resumen de lo desarrollado en el proyecto (como se generaron las variables, como se procesaron y que resultados se obtuvieron)\n",
    "- (2 pt) Poblar la base de datos, para ello tomaremos en cuenta principalmente los 3 partes fundamentales en su creacion:\n",
    "  - (0.7 pts) Seleccionar solo los pares (MRUN, RBD, AGNO) que tengan exactamente 10 meses distintos y cuyo promedio de asistencia sea mayor al 75% anual (puede calcular este promedio tomando directamente el promedio de ASIS_PROMEDIO)\n",
    "  - (0.7 pts) Para los valores de calidad de aire, para los valores nulos asumir la interpolacion lineal entre los datos cercanos.\n",
    "  - (0.6 pt) Para resolver algunas preguntas del proyecto y poblar correctamente la base de datos se necesitará calcular la distancia entre una estacion meteorológica y un colegio. En este paso es valido medir usando la distancia euclideana entre ambas coordenadas geograficas. Notese que no se encuentra la tabla de coordenadas geograficas de las estaciones meteorologicas, por lo que deberá extraerlas de la pagina web de SINCA.\n",
    "- (3 pts )Responder las siguientes preguntas:\n",
    "  - (0.5 pts) Cuál es la comuna con menor y mayor cantidad de particulas en suspencion de menos de 2.5 y 10 micras (MP2.5 MP10) mensual promedio (últimos 5 años)\n",
    "  - (1 pt) Calcule la asistencia promedio por colegio para los distintos meses (promediando los valores de los últimos 5 años). Grafique la asistencia promedio para un colegio de: Arica, Santiago y otro de Valdivia.\n",
    "  - (1 pt) Realice un gráfico comparativo (de puntos) entre asistencia promedio mensual (eje x) y la variable MP2.5 (eje y) para las 3 siguientes comunas:\n",
    "    - Las Condes\n",
    "    - Santiago\n",
    "    - Pudahuel\n",
    "  - (0.5 pts) Estime el material particulado 2.5 para un colegio de la comuna de San Miguel.\n",
    "\n",
    "\n"
   ]
  },
  {
   "cell_type": "code",
   "execution_count": 1,
   "id": "f588ba8c",
   "metadata": {
    "execution": {
     "iopub.execute_input": "2023-08-31T23:09:06.199315Z",
     "iopub.status.busy": "2023-08-31T23:09:06.196458Z",
     "iopub.status.idle": "2023-08-31T23:09:06.467132Z",
     "shell.execute_reply": "2023-08-31T23:09:06.464224Z"
    },
    "papermill": {
     "duration": 0.279988,
     "end_time": "2023-08-31T23:09:06.470365",
     "exception": false,
     "start_time": "2023-08-31T23:09:06.190377",
     "status": "completed"
    },
    "tags": []
   },
   "outputs": [
    {
     "data": {
      "text/html": [
       "<table class=\"dataframe\">\n",
       "<caption>A matrix: 2 × 6 of type dbl</caption>\n",
       "<thead>\n",
       "\t<tr><th></th><th scope=col>used</th><th scope=col>(Mb)</th><th scope=col>gc trigger</th><th scope=col>(Mb)</th><th scope=col>max used</th><th scope=col>(Mb)</th></tr>\n",
       "</thead>\n",
       "<tbody>\n",
       "\t<tr><th scope=row>Ncells</th><td> 959910</td><td>51.3</td><td>1949558</td><td>104.2</td><td>1249132</td><td>66.8</td></tr>\n",
       "\t<tr><th scope=row>Vcells</th><td>1702392</td><td>13.0</td><td>8388608</td><td> 64.0</td><td>2651364</td><td>20.3</td></tr>\n",
       "</tbody>\n",
       "</table>\n"
      ],
      "text/latex": [
       "A matrix: 2 × 6 of type dbl\n",
       "\\begin{tabular}{r|llllll}\n",
       "  & used & (Mb) & gc trigger & (Mb) & max used & (Mb)\\\\\n",
       "\\hline\n",
       "\tNcells &  959910 & 51.3 & 1949558 & 104.2 & 1249132 & 66.8\\\\\n",
       "\tVcells & 1702392 & 13.0 & 8388608 &  64.0 & 2651364 & 20.3\\\\\n",
       "\\end{tabular}\n"
      ],
      "text/markdown": [
       "\n",
       "A matrix: 2 × 6 of type dbl\n",
       "\n",
       "| <!--/--> | used | (Mb) | gc trigger | (Mb) | max used | (Mb) |\n",
       "|---|---|---|---|---|---|---|\n",
       "| Ncells |  959910 | 51.3 | 1949558 | 104.2 | 1249132 | 66.8 |\n",
       "| Vcells | 1702392 | 13.0 | 8388608 |  64.0 | 2651364 | 20.3 |\n",
       "\n"
      ],
      "text/plain": [
       "       used    (Mb) gc trigger (Mb)  max used (Mb)\n",
       "Ncells  959910 51.3 1949558    104.2 1249132  66.8\n",
       "Vcells 1702392 13.0 8388608     64.0 2651364  20.3"
      ]
     },
     "metadata": {},
     "output_type": "display_data"
    }
   ],
   "source": [
    "gc()"
   ]
  },
  {
   "cell_type": "markdown",
   "id": "f24d9f39",
   "metadata": {
    "papermill": {
     "duration": 0.003589,
     "end_time": "2023-08-31T23:09:06.477779",
     "exception": false,
     "start_time": "2023-08-31T23:09:06.474190",
     "status": "completed"
    },
    "tags": []
   },
   "source": [
    "## Descripción de las bases\n",
    "\n",
    "Asistencias colegios 2018-2019 (26 variables)\n",
    "\n",
    "| N | Nombre | Tipo | Descripción|\n",
    "|---|-----|------|------------|\n",
    "| 1 | AGNO | Numeric | Año del proceso |\n",
    "| 2 | MES_ESCOLAR | Numeric | Mes |\n",
    "| 3 | RBD | Numeric | Rol Base de Datos del Establecimiento |\n",
    "| 4 | DGV_RBD | Numeric | Dígito verificador del RBD |\n",
    "| 5 | NOM_RBD | Character | Nombre del establecimiento |\n",
    "| 6 | COD_REG_RBD | Numeric | Codigo de region en que se ubica el establecimiento |\n",
    "| 7 | COD_REG_RBD_A | Character | Nombre abreviado de la región en que se ubica el establecimiento |\n",
    "| 8 | COD_PRO_RBD | Numeric | Codigo de la provincia en que se ubica el establecimiento |\n",
    "| 9 | COD_COM_RBD | Numeric | Código de oficial de comuna en que se ubica el establecimiento |\n",
    "| 10 | NOM_COM_RBD | Character | Nombre de la comuna |\n",
    "| 11 | COD_DEPROV_RBD | Numeric | código del departamento provincial en que se ubica el establecimiento |\n",
    "| 12 | NOM_DEPROV_RBD | Nombre del departamento provinicial donde se ubica el establecimiento | \n",
    "| 13 | RURAL_RBD | Numeric | 0 si urbano, 1 si rural |\n",
    "| 14 | COD_DEPE | Numeric | Dependencia administrativa |\n",
    "| 15 | COD_DEPE2 | Numeric | Código de dependencia administrativa (agrupado) |\n",
    "| 16 | COD_ENSE | Numeric | Tipo de enseñanza |\n",
    "| 17 | COD_ENSE2 | Numeric | Niveles de enseñanza agrupados | \n",
    "| 18 | COD_GRADO | Numeric | Código de grado | \n",
    "| 19 | LET_CUR | Character | Letra del curso | \n",
    "| 20 | MRUN | Numeric | Identificador estudiante máscara | \n",
    "| 21 | GEN_ALU | Numeric | Sexo del estudiante |\n",
    "| 22 | FEC_NAC_ALU | Numeric | Fecha nacimiento alumno AAAAMM (190001/180001 sin info) |\n",
    "| 23 | COD_COM_ALU | Numeric | Codigo oficial de la comuna de residencia del alumno |\n",
    "| 24 | NOM_COM_ALU | Character | Nombre comuna de residencia |\n",
    "| 25 | DIAS_ASISTIDOS | Numeric | Total numero de días asistidos |\n",
    "| 26 | DIAS_TRABAJADOS | Numeric | Total numero de días trabajados |\n",
    "| 27 | ASIS_PROMEDIO | Numeric | proporcion de días asistidos respecto de días trabajados |\n",
    "\n",
    "Calidad de Aire Chile (12 variables)\n",
    "\n",
    "| N | Variable | Tipo | Descripción |\n",
    "|---|----------|------|-------------|\n",
    "| 1 | Estacion | Chr | Nombre de la comuna donde está la estación |\n",
    "| 2 | Fecha (YYMMDD) | int | Fecha de medicion en formato YYMMDD |\n",
    "| 3 | HORA (HHMM) | int | Hora de medicion en formato HHMM |\n",
    "| 4 | MP10 | Chr | Material particulado de 10 micrones (decimales con coma) |\n",
    "| 5 | MP2_5 | Chr | Material part 2.5 micrones (decimales con coma) | \n",
    "| 6 | CO | Chr | Monóxido de carbono |\n",
    "| 7 | NO | Chr | Monoxido nitroso | \n",
    "| 8 | NO2 | Chr | Dioxido nitroso |\n",
    "| 9 | O3 | Chr | Ozono |\n",
    "| 10 | Humedad | Chr | idem |\n",
    "| 11 | Temperatura | Chr | idem |\n",
    "| 12 | Viento_v | Chr | viento |\n",
    "\n",
    "Localizacion geográfica de colegios (6 variables)\n",
    "\n",
    "| N | Variable | Tipo | Descripción |\n",
    "|---|----------|------|-------------|\n",
    "| 1 | RBD | int | Rol de base de datos del colegio |\n",
    "| 2 | NOM_RBD | chr | Nombre colegio |\n",
    "| 3 | NOM_COM_RBD | chr | Nombre comuna del establecimiento |\n",
    "| 4 | query | chr | union de 2 y 3 para busqueda en maps | \n",
    "| 5 | lon | chr | longitud geográfica |\n",
    "| 6 | lat | chr | latitud geográfica |\n"
   ]
  },
  {
   "cell_type": "code",
   "execution_count": 2,
   "id": "255a72c1",
   "metadata": {
    "execution": {
     "iopub.execute_input": "2023-08-31T23:09:06.520399Z",
     "iopub.status.busy": "2023-08-31T23:09:06.486949Z",
     "iopub.status.idle": "2023-08-31T23:09:07.873638Z",
     "shell.execute_reply": "2023-08-31T23:09:07.871757Z"
    },
    "papermill": {
     "duration": 1.395084,
     "end_time": "2023-08-31T23:09:07.876444",
     "exception": false,
     "start_time": "2023-08-31T23:09:06.481360",
     "status": "completed"
    },
    "tags": []
   },
   "outputs": [
    {
     "name": "stderr",
     "output_type": "stream",
     "text": [
      "── \u001b[1mAttaching core tidyverse packages\u001b[22m ──────────────────────── tidyverse 2.0.0 ──\n",
      "\u001b[32m✔\u001b[39m \u001b[34mdplyr    \u001b[39m 1.1.2     \u001b[32m✔\u001b[39m \u001b[34mreadr    \u001b[39m 2.1.4\n",
      "\u001b[32m✔\u001b[39m \u001b[34mforcats  \u001b[39m 1.0.0     \u001b[32m✔\u001b[39m \u001b[34mstringr  \u001b[39m 1.5.0\n",
      "\u001b[32m✔\u001b[39m \u001b[34mggplot2  \u001b[39m 3.4.2     \u001b[32m✔\u001b[39m \u001b[34mtibble   \u001b[39m 3.2.1\n",
      "\u001b[32m✔\u001b[39m \u001b[34mlubridate\u001b[39m 1.9.2     \u001b[32m✔\u001b[39m \u001b[34mtidyr    \u001b[39m 1.3.0\n",
      "\u001b[32m✔\u001b[39m \u001b[34mpurrr    \u001b[39m 1.0.1     \n",
      "── \u001b[1mConflicts\u001b[22m ────────────────────────────────────────── tidyverse_conflicts() ──\n",
      "\u001b[31m✖\u001b[39m \u001b[34mdplyr\u001b[39m::\u001b[32mfilter()\u001b[39m masks \u001b[34mstats\u001b[39m::filter()\n",
      "\u001b[31m✖\u001b[39m \u001b[34mdplyr\u001b[39m::\u001b[32mlag()\u001b[39m    masks \u001b[34mstats\u001b[39m::lag()\n",
      "\u001b[36mℹ\u001b[39m Use the conflicted package (\u001b[3m\u001b[34m<http://conflicted.r-lib.org/>\u001b[39m\u001b[23m) to force all conflicts to become errors\n",
      "\n",
      "Attaching package: ‘data.table’\n",
      "\n",
      "\n",
      "The following objects are masked from ‘package:lubridate’:\n",
      "\n",
      "    hour, isoweek, mday, minute, month, quarter, second, wday, week,\n",
      "    yday, year\n",
      "\n",
      "\n",
      "The following objects are masked from ‘package:dplyr’:\n",
      "\n",
      "    between, first, last\n",
      "\n",
      "\n",
      "The following object is masked from ‘package:purrr’:\n",
      "\n",
      "    transpose\n",
      "\n",
      "\n"
     ]
    }
   ],
   "source": [
    "# libraries\n",
    "library(\"tidyverse\")\n",
    "library(\"data.table\")\n",
    "library(\"dplyr\")\n",
    "library(\"ggplot2\")\n",
    "library(\"DBI\")\n",
    "library(\"RPostgreSQL\")\n",
    "library(\"RODBC\")\n",
    "library(\"RPostgres\")"
   ]
  },
  {
   "cell_type": "code",
   "execution_count": 3,
   "id": "f86d56ca",
   "metadata": {
    "execution": {
     "iopub.execute_input": "2023-08-31T23:09:07.889142Z",
     "iopub.status.busy": "2023-08-31T23:09:07.887051Z",
     "iopub.status.idle": "2023-08-31T23:13:39.635072Z",
     "shell.execute_reply": "2023-08-31T23:13:39.632888Z"
    },
    "papermill": {
     "duration": 271.761519,
     "end_time": "2023-08-31T23:13:39.642354",
     "exception": false,
     "start_time": "2023-08-31T23:09:07.880835",
     "status": "completed"
    },
    "tags": []
   },
   "outputs": [],
   "source": [
    "nombres_archivos <- c(\"/kaggle/input/asistencia-colegios-2018-y-2019-chile/20180816_Asistencia_Marzo_2018_20180415_PUBL.csv\",\n",
    "                     \"/kaggle/input/asistencia-colegios-2018-y-2019-chile/20180830_Asistencia_Abril_2018_20180515_PUBL.csv\",\n",
    "                     \"/kaggle/input/asistencia-colegios-2018-y-2019-chile/20180720_Asistencia_Mayo_2018_20180615_PUBL.csv\",\n",
    "                     \"/kaggle/input/asistencia-colegios-2018-y-2019-chile/20180816_Asistencia_Junio_2018_20180715_PUBL.csv\",\n",
    "                     \"/kaggle/input/asistencia-colegios-2018-y-2019-chile/20180904_Asistencia_Julio_2018_20180815_PUBL.csv\",\n",
    "                     \"/kaggle/input/asistencia-colegios-2018-y-2019-chile/20181026_Asistencia_Agosto_2018_20180915_PUBL.csv\",\n",
    "                     \"/kaggle/input/asistencia-colegios-2018-y-2019-chile/20181127_Asistencia_Septiembre_2018_20181015_PUBL.csv\",\n",
    "                     \"/kaggle/input/asistencia-colegios-2018-y-2019-chile/20181213_Asistencia_Octubre_2018_20181115_PUBL.csv\",\n",
    "                     \"/kaggle/input/asistencia-colegios-2018-y-2019-chile/20190107_Asistencia_Noviembre_2018_20181215_PUBL.csv\",\n",
    "                     \"/kaggle/input/asistencia-colegios-2018-y-2019-chile/20190121_Asistencia_Diciembre_2018_20190115_PUBL.csv\",\n",
    "                     \"/kaggle/input/asistencia-colegios-2018-y-2019-chile/20190514_Asistencia_Marzo_2019_20190415_PUBL.csv\",\n",
    "                     \"/kaggle/input/asistencia-colegios-2018-y-2019-chile/20190812_Asistencia_Abril_2019_20190515_PUBL.csv\",\n",
    "                     \"/kaggle/input/asistencia-colegios-2018-y-2019-chile/20191511_Asistencia_Mayo_2019_20190615_PUBL.csv\",\n",
    "                     \"/kaggle/input/asistencia-colegios-2018-y-2019-chile/20191211_Asistencia_Junio_2019_20190715_PUBL.csv\",\n",
    "                     \"/kaggle/input/asistencia-colegios-2018-y-2019-chile/20191211_Asistencia_Julio_2019_20190715_PUBL.csv\",\n",
    "                     \"/kaggle/input/asistencia-colegios-2018-y-2019-chile/20191227_Asistencia_Agosto_2019_20190915_PUBL.csv\",\n",
    "                     \"/kaggle/input/asistencia-colegios-2018-y-2019-chile/20200102_Asistencia_Septiembre_2019_20191015_PUBL.csv\",\n",
    "                     \"/kaggle/input/asistencia-colegios-2018-y-2019-chile/20200106_Asistencia_Octubre_2019_20191115_PUBL.csv\",\n",
    "                     \"/kaggle/input/asistencia-colegios-2018-y-2019-chile/20200108_Asistencia_noviembre_2019_20191215_PUBL.csv\",\n",
    "                     \"/kaggle/input/asistencia-colegios-2018-y-2019-chile/20200120_Asistencia_diciembre_2019_20200115_PUBL.csv\")\n",
    "\n",
    "db <- data.table()\n",
    "\n",
    "columna_a_eliminar <- \"NOM_REG_RBD_A\"\n",
    "\n",
    "for (archivo in nombres_archivos) {\n",
    "    data_temp <- fread(archivo, \"encoding\" =\"UTF-8\")\n",
    "    if (columna_a_eliminar %in% colnames(data_temp)){\n",
    "        data_temp[, (columna_a_eliminar) := NULL]\n",
    "    }\n",
    "    db <- rbindlist(list(db, data_temp))\n",
    "}\n",
    "    "
   ]
  },
  {
   "cell_type": "code",
   "execution_count": 4,
   "id": "54e21d01",
   "metadata": {
    "execution": {
     "iopub.execute_input": "2023-08-31T23:13:39.663753Z",
     "iopub.status.busy": "2023-08-31T23:13:39.662075Z",
     "iopub.status.idle": "2023-08-31T23:13:39.706518Z",
     "shell.execute_reply": "2023-08-31T23:13:39.704183Z"
    },
    "papermill": {
     "duration": 0.055885,
     "end_time": "2023-08-31T23:13:39.709196",
     "exception": false,
     "start_time": "2023-08-31T23:13:39.653311",
     "status": "completed"
    },
    "tags": []
   },
   "outputs": [
    {
     "name": "stdout",
     "output_type": "stream",
     "text": [
      "Classes ‘data.table’ and 'data.frame':\t70143193 obs. of  26 variables:\n",
      " $ AGNO           : int  2018 2018 2018 2018 2018 2018 2018 2018 2018 2018 ...\n",
      " $ MES_ESCOLAR    : int  3 3 3 3 3 3 3 3 3 3 ...\n",
      " $ RBD            : int  1 1 1 1 1 1 1 1 1 1 ...\n",
      " $ DGV_RBD        : int  9 9 9 9 9 9 9 9 9 9 ...\n",
      " $ NOM_RBD        : chr  \"LICEO POLITECNICO ARICA\" \"LICEO POLITECNICO ARICA\" \"LICEO POLITECNICO ARICA\" \"LICEO POLITECNICO ARICA\" ...\n",
      " $ COD_REG_RBD    : int  15 15 15 15 15 15 15 15 15 15 ...\n",
      " $ COD_PRO_RBD    : int  151 151 151 151 151 151 151 151 151 151 ...\n",
      " $ COD_COM_RBD    : int  15101 15101 15101 15101 15101 15101 15101 15101 15101 15101 ...\n",
      " $ NOM_COM_RBD    : chr  \"ARICA\" \"ARICA\" \"ARICA\" \"ARICA\" ...\n",
      " $ COD_DEPROV_RBD : int  151 151 151 151 151 151 151 151 151 151 ...\n",
      " $ NOM_DEPROV_RBD : chr  \"ARICA\" \"ARICA\" \"ARICA\" \"ARICA\" ...\n",
      " $ RURAL_RBD      : int  0 0 0 0 0 0 0 0 0 0 ...\n",
      " $ COD_DEPE       : int  2 2 2 2 2 2 2 2 2 2 ...\n",
      " $ COD_DEPE2      : int  1 1 1 1 1 1 1 1 1 1 ...\n",
      " $ COD_ENSE       : int  463 463 463 463 463 463 463 463 463 463 ...\n",
      " $ COD_ENSE2      : int  8 8 8 8 8 8 8 8 8 8 ...\n",
      " $ COD_GRADO      : int  3 3 3 3 3 3 3 3 3 3 ...\n",
      " $ LET_CUR        : chr  \"A\" \"A\" \"A\" \"A\" ...\n",
      " $ MRUN           : int  710054 4895728 7519082 7752592 8445111 9591749 11169999 15856013 18756239 19855357 ...\n",
      " $ GEN_ALU        : int  2 2 2 2 1 2 2 1 2 1 ...\n",
      " $ FEC_NAC_ALU    : int  199408 196804 196805 198403 199707 197611 199606 196606 197011 196808 ...\n",
      " $ COD_COM_ALU    : int  15101 15101 15101 15101 15101 15101 13130 15101 15101 15101 ...\n",
      " $ NOM_COM_ALU    : chr  \"ARICA\" \"ARICA\" \"ARICA\" \"ARICA\" ...\n",
      " $ DIAS_ASISTIDOS : int  4 2 3 9 8 1 9 7 1 4 ...\n",
      " $ DIAS_TRABAJADOS: int  9 9 9 9 9 9 9 9 9 9 ...\n",
      " $ ASIS_PROMEDIO  : chr  \",4444\" \",2222\" \",3333\" \"1\" ...\n",
      " - attr(*, \".internal.selfref\")=<externalptr> \n"
     ]
    }
   ],
   "source": [
    "str(db)"
   ]
  }
 ],
 "kernelspec": {
  "display_name": "R",
  "language": "R",
  "name": "ir"
 },
 "language_info": {
  "codemirror_mode": "r",
  "file_extension": ".r",
  "mimetype": "text/x-r-source",
  "name": "R",
  "pygments_lexer": "r",
  "version": "4.0.5"
 },
 "metadata": {
  "kernelspec": {
   "display_name": "R",
   "language": "R",
   "name": "ir"
  },
  "language_info": {
   "codemirror_mode": "r",
   "file_extension": ".r",
   "mimetype": "text/x-r-source",
   "name": "R",
   "pygments_lexer": "r",
   "version": "4.0.5"
  },
  "papermill": {
   "default_parameters": {},
   "duration": 278.39983,
   "end_time": "2023-08-31T23:13:41.047459",
   "environment_variables": {},
   "exception": null,
   "input_path": "__notebook__.ipynb",
   "output_path": "__notebook__.ipynb",
   "parameters": {},
   "start_time": "2023-08-31T23:09:02.647629",
   "version": "2.4.0"
  }
 },
 "nbformat": 4,
 "nbformat_minor": 5
}
